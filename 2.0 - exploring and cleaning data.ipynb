{
 "cells": [
  {
   "cell_type": "code",
   "execution_count": 47,
   "metadata": {
    "collapsed": true
   },
   "outputs": [],
   "source": [
    "import pandas as pd\n",
    "%matplotlib inline"
   ]
  },
  {
   "cell_type": "code",
   "execution_count": 48,
   "metadata": {
    "collapsed": true
   },
   "outputs": [],
   "source": [
    "dfl = pd.read_csv('../za_sample_listings_incl_cat.csv', index_col='item_id')"
   ]
  },
  {
   "cell_type": "code",
   "execution_count": 49,
   "metadata": {
    "collapsed": false
   },
   "outputs": [
    {
     "data": {
      "text/plain": [
       "500016"
      ]
     },
     "execution_count": 49,
     "metadata": {},
     "output_type": "execute_result"
    }
   ],
   "source": [
    "len(dfl)"
   ]
  },
  {
   "cell_type": "code",
   "execution_count": 50,
   "metadata": {
    "collapsed": false
   },
   "outputs": [
    {
     "data": {
      "text/plain": [
       "Index(['Unnamed: 0', 'seller_id', 'listing_title', 'listing_description',\n",
       "       'listing_price', 'category_sk', 'category_l1_name_en',\n",
       "       'category_l2_name_en', 'category_l3_name_en', 'listing_latitude',\n",
       "       'listing_longitude'],\n",
       "      dtype='object')"
      ]
     },
     "execution_count": 50,
     "metadata": {},
     "output_type": "execute_result"
    }
   ],
   "source": [
    "dfl.columns"
   ]
  },
  {
   "cell_type": "code",
   "execution_count": 51,
   "metadata": {
    "collapsed": false
   },
   "outputs": [
    {
     "data": {
      "text/html": [
       "<div>\n",
       "<style>\n",
       "    .dataframe thead tr:only-child th {\n",
       "        text-align: right;\n",
       "    }\n",
       "\n",
       "    .dataframe thead th {\n",
       "        text-align: left;\n",
       "    }\n",
       "\n",
       "    .dataframe tbody tr th {\n",
       "        vertical-align: top;\n",
       "    }\n",
       "</style>\n",
       "<table border=\"1\" class=\"dataframe\">\n",
       "  <thead>\n",
       "    <tr style=\"text-align: right;\">\n",
       "      <th></th>\n",
       "      <th>Unnamed: 0</th>\n",
       "      <th>seller_id</th>\n",
       "      <th>listing_title</th>\n",
       "      <th>listing_description</th>\n",
       "      <th>listing_price</th>\n",
       "      <th>category_sk</th>\n",
       "      <th>category_l1_name_en</th>\n",
       "      <th>category_l2_name_en</th>\n",
       "      <th>category_l3_name_en</th>\n",
       "      <th>listing_latitude</th>\n",
       "      <th>listing_longitude</th>\n",
       "    </tr>\n",
       "    <tr>\n",
       "      <th>item_id</th>\n",
       "      <th></th>\n",
       "      <th></th>\n",
       "      <th></th>\n",
       "      <th></th>\n",
       "      <th></th>\n",
       "      <th></th>\n",
       "      <th></th>\n",
       "      <th></th>\n",
       "      <th></th>\n",
       "      <th></th>\n",
       "      <th></th>\n",
       "    </tr>\n",
       "  </thead>\n",
       "  <tbody>\n",
       "    <tr>\n",
       "      <th>0.0</th>\n",
       "      <td>0</td>\n",
       "      <td>0</td>\n",
       "      <td>Nice wooden makes</td>\n",
       "      <td>We build all different types for sale</td>\n",
       "      <td>17500.00</td>\n",
       "      <td>olx|mea|za|806|809</td>\n",
       "      <td>Home, Garden &amp; Tools</td>\n",
       "      <td>Garden &amp; Braai</td>\n",
       "      <td>Unknown</td>\n",
       "      <td>-25.43067</td>\n",
       "      <td>27.84873</td>\n",
       "    </tr>\n",
       "    <tr>\n",
       "      <th>1.0</th>\n",
       "      <td>1</td>\n",
       "      <td>1</td>\n",
       "      <td>A Shinning 2013 Chevrolet 1.4 Utility Bakkie w...</td>\n",
       "      <td>A Stunning accident free bargain that has just...</td>\n",
       "      <td>94890.00</td>\n",
       "      <td>olx|mea|za|362|378|2012</td>\n",
       "      <td>Vehicles</td>\n",
       "      <td>Cars &amp; Bakkies</td>\n",
       "      <td>Chevrolet</td>\n",
       "      <td>-29.73714</td>\n",
       "      <td>31.07364</td>\n",
       "    </tr>\n",
       "    <tr>\n",
       "      <th>2.0</th>\n",
       "      <td>2</td>\n",
       "      <td>2</td>\n",
       "      <td>Lampshades various</td>\n",
       "      <td>A variety of lampshades in white</td>\n",
       "      <td>20.00</td>\n",
       "      <td>olx|mea|za|806|807</td>\n",
       "      <td>Home, Garden &amp; Tools</td>\n",
       "      <td>Furniture &amp; Decor</td>\n",
       "      <td>Unknown</td>\n",
       "      <td>-33.88159</td>\n",
       "      <td>18.55522</td>\n",
       "    </tr>\n",
       "    <tr>\n",
       "      <th>3.0</th>\n",
       "      <td>3</td>\n",
       "      <td>3</td>\n",
       "      <td>Toyota Corolla</td>\n",
       "      <td>Toyota Corolla 1.3 Professional, Front Electri...</td>\n",
       "      <td>63995.00</td>\n",
       "      <td>olx|mea|za|362|378|2067</td>\n",
       "      <td>Vehicles</td>\n",
       "      <td>Cars &amp; Bakkies</td>\n",
       "      <td>Toyota</td>\n",
       "      <td>-26.10757</td>\n",
       "      <td>28.05670</td>\n",
       "    </tr>\n",
       "    <tr>\n",
       "      <th>4.0</th>\n",
       "      <td>4</td>\n",
       "      <td>4</td>\n",
       "      <td>bench grinder and buffer</td>\n",
       "      <td>bench grinder and.buffer...R800 for both</td>\n",
       "      <td>800.00</td>\n",
       "      <td>olx|mea|za|806|910</td>\n",
       "      <td>Home, Garden &amp; Tools</td>\n",
       "      <td>Tools &amp; DIY</td>\n",
       "      <td>Unknown</td>\n",
       "      <td>-26.17190</td>\n",
       "      <td>27.91318</td>\n",
       "    </tr>\n",
       "  </tbody>\n",
       "</table>\n",
       "</div>"
      ],
      "text/plain": [
       "        Unnamed: 0 seller_id  \\\n",
       "item_id                        \n",
       "0.0              0         0   \n",
       "1.0              1         1   \n",
       "2.0              2         2   \n",
       "3.0              3         3   \n",
       "4.0              4         4   \n",
       "\n",
       "                                             listing_title  \\\n",
       "item_id                                                      \n",
       "0.0                                      Nice wooden makes   \n",
       "1.0      A Shinning 2013 Chevrolet 1.4 Utility Bakkie w...   \n",
       "2.0                                     Lampshades various   \n",
       "3.0                                         Toyota Corolla   \n",
       "4.0                               bench grinder and buffer   \n",
       "\n",
       "                                       listing_description listing_price  \\\n",
       "item_id                                                                    \n",
       "0.0                  We build all different types for sale      17500.00   \n",
       "1.0      A Stunning accident free bargain that has just...      94890.00   \n",
       "2.0                       A variety of lampshades in white         20.00   \n",
       "3.0      Toyota Corolla 1.3 Professional, Front Electri...      63995.00   \n",
       "4.0               bench grinder and.buffer...R800 for both        800.00   \n",
       "\n",
       "                     category_sk   category_l1_name_en category_l2_name_en  \\\n",
       "item_id                                                                      \n",
       "0.0           olx|mea|za|806|809  Home, Garden & Tools      Garden & Braai   \n",
       "1.0      olx|mea|za|362|378|2012              Vehicles      Cars & Bakkies   \n",
       "2.0           olx|mea|za|806|807  Home, Garden & Tools   Furniture & Decor   \n",
       "3.0      olx|mea|za|362|378|2067              Vehicles      Cars & Bakkies   \n",
       "4.0           olx|mea|za|806|910  Home, Garden & Tools         Tools & DIY   \n",
       "\n",
       "        category_l3_name_en  listing_latitude  listing_longitude  \n",
       "item_id                                                           \n",
       "0.0                 Unknown         -25.43067           27.84873  \n",
       "1.0               Chevrolet         -29.73714           31.07364  \n",
       "2.0                 Unknown         -33.88159           18.55522  \n",
       "3.0                  Toyota         -26.10757           28.05670  \n",
       "4.0                 Unknown         -26.17190           27.91318  "
      ]
     },
     "execution_count": 51,
     "metadata": {},
     "output_type": "execute_result"
    }
   ],
   "source": [
    "dfl.head()"
   ]
  },
  {
   "cell_type": "code",
   "execution_count": 52,
   "metadata": {
    "collapsed": false
   },
   "outputs": [
    {
     "data": {
      "text/html": [
       "<div>\n",
       "<style>\n",
       "    .dataframe thead tr:only-child th {\n",
       "        text-align: right;\n",
       "    }\n",
       "\n",
       "    .dataframe thead th {\n",
       "        text-align: left;\n",
       "    }\n",
       "\n",
       "    .dataframe tbody tr th {\n",
       "        vertical-align: top;\n",
       "    }\n",
       "</style>\n",
       "<table border=\"1\" class=\"dataframe\">\n",
       "  <thead>\n",
       "    <tr style=\"text-align: right;\">\n",
       "      <th></th>\n",
       "      <th>listing_latitude</th>\n",
       "      <th>listing_longitude</th>\n",
       "    </tr>\n",
       "  </thead>\n",
       "  <tbody>\n",
       "    <tr>\n",
       "      <th>count</th>\n",
       "      <td>499988.000000</td>\n",
       "      <td>499988.000000</td>\n",
       "    </tr>\n",
       "    <tr>\n",
       "      <th>mean</th>\n",
       "      <td>-27.920707</td>\n",
       "      <td>27.162857</td>\n",
       "    </tr>\n",
       "    <tr>\n",
       "      <th>std</th>\n",
       "      <td>2.964371</td>\n",
       "      <td>3.414278</td>\n",
       "    </tr>\n",
       "    <tr>\n",
       "      <th>min</th>\n",
       "      <td>-34.816300</td>\n",
       "      <td>16.900450</td>\n",
       "    </tr>\n",
       "    <tr>\n",
       "      <th>25%</th>\n",
       "      <td>-29.702790</td>\n",
       "      <td>27.648030</td>\n",
       "    </tr>\n",
       "    <tr>\n",
       "      <th>50%</th>\n",
       "      <td>-26.239060</td>\n",
       "      <td>28.085930</td>\n",
       "    </tr>\n",
       "    <tr>\n",
       "      <th>75%</th>\n",
       "      <td>-26.072610</td>\n",
       "      <td>28.322820</td>\n",
       "    </tr>\n",
       "    <tr>\n",
       "      <th>max</th>\n",
       "      <td>-22.381250</td>\n",
       "      <td>32.757660</td>\n",
       "    </tr>\n",
       "  </tbody>\n",
       "</table>\n",
       "</div>"
      ],
      "text/plain": [
       "       listing_latitude  listing_longitude\n",
       "count     499988.000000      499988.000000\n",
       "mean         -27.920707          27.162857\n",
       "std            2.964371           3.414278\n",
       "min          -34.816300          16.900450\n",
       "25%          -29.702790          27.648030\n",
       "50%          -26.239060          28.085930\n",
       "75%          -26.072610          28.322820\n",
       "max          -22.381250          32.757660"
      ]
     },
     "execution_count": 52,
     "metadata": {},
     "output_type": "execute_result"
    }
   ],
   "source": [
    "dfl.describe()"
   ]
  },
  {
   "cell_type": "markdown",
   "metadata": {},
   "source": [
    "Surprisingly, _listing_price_ is not included in the dataframe description.\n",
    "When trying to convert the column to float we realize this is caused by the presence of some ```'Uknown'``` values:"
   ]
  },
  {
   "cell_type": "code",
   "execution_count": 53,
   "metadata": {
    "collapsed": false
   },
   "outputs": [
    {
     "data": {
      "text/plain": [
       "11"
      ]
     },
     "execution_count": 53,
     "metadata": {},
     "output_type": "execute_result"
    }
   ],
   "source": [
    "sum(dfl.listing_price == 'Unknown')"
   ]
  },
  {
   "cell_type": "markdown",
   "metadata": {},
   "source": [
    "They are just a few, so let's just get rid of them for now"
   ]
  },
  {
   "cell_type": "code",
   "execution_count": 54,
   "metadata": {
    "collapsed": false
   },
   "outputs": [
    {
     "data": {
      "text/plain": [
       "500005"
      ]
     },
     "execution_count": 54,
     "metadata": {},
     "output_type": "execute_result"
    }
   ],
   "source": [
    "dfl = dfl[dfl.listing_price != 'Unknown']\n",
    "len(dfl)"
   ]
  },
  {
   "cell_type": "markdown",
   "metadata": {},
   "source": [
    "But still can't convert the column to float, because of some shifted rows ( e.g.: ```'Volkswagen'``` shows up in the price column). Let's get rid of those rows.\n",
    "We will use a little helper function to get rid of those price entries that can't be converted to float."
   ]
  },
  {
   "cell_type": "code",
   "execution_count": 80,
   "metadata": {
    "collapsed": false
   },
   "outputs": [],
   "source": [
    "import numpy as np\n",
    "def is_float(x):\n",
    "    try:\n",
    "        x = float(x)\n",
    "        return not np.isnan(x)\n",
    "    except Exception:\n",
    "        return False"
   ]
  },
  {
   "cell_type": "code",
   "execution_count": 82,
   "metadata": {
    "collapsed": false
   },
   "outputs": [],
   "source": [
    "arefloats = dfl.listing_price.apply(is_float)"
   ]
  },
  {
   "cell_type": "code",
   "execution_count": 83,
   "metadata": {
    "collapsed": false
   },
   "outputs": [
    {
     "data": {
      "text/plain": [
       "491878"
      ]
     },
     "execution_count": 83,
     "metadata": {},
     "output_type": "execute_result"
    }
   ],
   "source": [
    "sum(arefloats)"
   ]
  },
  {
   "cell_type": "code",
   "execution_count": 84,
   "metadata": {
    "collapsed": false
   },
   "outputs": [],
   "source": [
    "dfl = dfl[arefloats]\n",
    "dfl.listing_price = dfl.listing_price.astype(float)"
   ]
  },
  {
   "cell_type": "code",
   "execution_count": 85,
   "metadata": {
    "collapsed": false
   },
   "outputs": [
    {
     "data": {
      "text/html": [
       "<div>\n",
       "<style>\n",
       "    .dataframe thead tr:only-child th {\n",
       "        text-align: right;\n",
       "    }\n",
       "\n",
       "    .dataframe thead th {\n",
       "        text-align: left;\n",
       "    }\n",
       "\n",
       "    .dataframe tbody tr th {\n",
       "        vertical-align: top;\n",
       "    }\n",
       "</style>\n",
       "<table border=\"1\" class=\"dataframe\">\n",
       "  <thead>\n",
       "    <tr style=\"text-align: right;\">\n",
       "      <th></th>\n",
       "      <th>listing_price</th>\n",
       "      <th>listing_latitude</th>\n",
       "      <th>listing_longitude</th>\n",
       "    </tr>\n",
       "  </thead>\n",
       "  <tbody>\n",
       "    <tr>\n",
       "      <th>count</th>\n",
       "      <td>4.918780e+05</td>\n",
       "      <td>491878.000000</td>\n",
       "      <td>491878.000000</td>\n",
       "    </tr>\n",
       "    <tr>\n",
       "      <th>mean</th>\n",
       "      <td>1.383485e+08</td>\n",
       "      <td>-27.918195</td>\n",
       "      <td>27.168319</td>\n",
       "    </tr>\n",
       "    <tr>\n",
       "      <th>std</th>\n",
       "      <td>3.028575e+10</td>\n",
       "      <td>2.961778</td>\n",
       "      <td>3.408192</td>\n",
       "    </tr>\n",
       "    <tr>\n",
       "      <th>min</th>\n",
       "      <td>0.000000e+00</td>\n",
       "      <td>-34.816300</td>\n",
       "      <td>16.900450</td>\n",
       "    </tr>\n",
       "    <tr>\n",
       "      <th>25%</th>\n",
       "      <td>9.500000e+02</td>\n",
       "      <td>-29.702790</td>\n",
       "      <td>27.648030</td>\n",
       "    </tr>\n",
       "    <tr>\n",
       "      <th>50%</th>\n",
       "      <td>4.500000e+03</td>\n",
       "      <td>-26.239060</td>\n",
       "      <td>28.087390</td>\n",
       "    </tr>\n",
       "    <tr>\n",
       "      <th>75%</th>\n",
       "      <td>4.500000e+04</td>\n",
       "      <td>-26.072610</td>\n",
       "      <td>28.322820</td>\n",
       "    </tr>\n",
       "    <tr>\n",
       "      <th>max</th>\n",
       "      <td>1.000000e+13</td>\n",
       "      <td>-22.381250</td>\n",
       "      <td>32.757660</td>\n",
       "    </tr>\n",
       "  </tbody>\n",
       "</table>\n",
       "</div>"
      ],
      "text/plain": [
       "       listing_price  listing_latitude  listing_longitude\n",
       "count   4.918780e+05     491878.000000      491878.000000\n",
       "mean    1.383485e+08        -27.918195          27.168319\n",
       "std     3.028575e+10          2.961778           3.408192\n",
       "min     0.000000e+00        -34.816300          16.900450\n",
       "25%     9.500000e+02        -29.702790          27.648030\n",
       "50%     4.500000e+03        -26.239060          28.087390\n",
       "75%     4.500000e+04        -26.072610          28.322820\n",
       "max     1.000000e+13        -22.381250          32.757660"
      ]
     },
     "execution_count": 85,
     "metadata": {},
     "output_type": "execute_result"
    }
   ],
   "source": [
    "dfl.describe()"
   ]
  },
  {
   "cell_type": "code",
   "execution_count": 87,
   "metadata": {
    "collapsed": false
   },
   "outputs": [
    {
     "data": {
      "text/html": [
       "<div>\n",
       "<style>\n",
       "    .dataframe thead tr:only-child th {\n",
       "        text-align: right;\n",
       "    }\n",
       "\n",
       "    .dataframe thead th {\n",
       "        text-align: left;\n",
       "    }\n",
       "\n",
       "    .dataframe tbody tr th {\n",
       "        vertical-align: top;\n",
       "    }\n",
       "</style>\n",
       "<table border=\"1\" class=\"dataframe\">\n",
       "  <thead>\n",
       "    <tr style=\"text-align: right;\">\n",
       "      <th></th>\n",
       "      <th>Unnamed: 0</th>\n",
       "      <th>seller_id</th>\n",
       "      <th>listing_title</th>\n",
       "      <th>listing_description</th>\n",
       "      <th>listing_price</th>\n",
       "      <th>category_sk</th>\n",
       "      <th>category_l1_name_en</th>\n",
       "      <th>category_l2_name_en</th>\n",
       "      <th>category_l3_name_en</th>\n",
       "      <th>listing_latitude</th>\n",
       "      <th>listing_longitude</th>\n",
       "    </tr>\n",
       "    <tr>\n",
       "      <th>item_id</th>\n",
       "      <th></th>\n",
       "      <th></th>\n",
       "      <th></th>\n",
       "      <th></th>\n",
       "      <th></th>\n",
       "      <th></th>\n",
       "      <th></th>\n",
       "      <th></th>\n",
       "      <th></th>\n",
       "      <th></th>\n",
       "      <th></th>\n",
       "    </tr>\n",
       "  </thead>\n",
       "  <tbody>\n",
       "  </tbody>\n",
       "</table>\n",
       "</div>"
      ],
      "text/plain": [
       "Empty DataFrame\n",
       "Columns: [Unnamed: 0, seller_id, listing_title, listing_description, listing_price, category_sk, category_l1_name_en, category_l2_name_en, category_l3_name_en, listing_latitude, listing_longitude]\n",
       "Index: []"
      ]
     },
     "execution_count": 87,
     "metadata": {},
     "output_type": "execute_result"
    }
   ],
   "source": [
    "dfl[dfl.listing_price.isnull()]"
   ]
  },
  {
   "cell_type": "markdown",
   "metadata": {},
   "source": [
    "## Exploring category distribution"
   ]
  },
  {
   "cell_type": "code",
   "execution_count": 88,
   "metadata": {
    "collapsed": false
   },
   "outputs": [],
   "source": [
    "dfl.category_l1_name_en = dfl.category_l1_name_en.astype(str)"
   ]
  },
  {
   "cell_type": "code",
   "execution_count": 89,
   "metadata": {
    "collapsed": false
   },
   "outputs": [
    {
     "data": {
      "text/plain": [
       "<matplotlib.axes._subplots.AxesSubplot at 0x7f3e6dadfa20>"
      ]
     },
     "execution_count": 89,
     "metadata": {},
     "output_type": "execute_result"
    },
    {
     "data": {
      "image/png": "[encoded data removed]",
      "text/plain": [
       "<matplotlib.figure.Figure at 0x7f3e6db22a90>"
      ]
     },
     "metadata": {},
     "output_type": "display_data"
    }
   ],
   "source": [
    "dfl.category_l1_name_en.value_counts().plot(kind='bar')"
   ]
  },
  {
   "cell_type": "code",
   "execution_count": 90,
   "metadata": {
    "collapsed": false
   },
   "outputs": [
    {
     "data": {
      "text/plain": [
       "Vehicles                   222197\n",
       "Electronics & Computers     74478\n",
       "Home, Garden & Tools        61709\n",
       "Services                    28663\n",
       "Property                    19748\n",
       "Sports & Outdoors           15708\n",
       "Hobbies & Interests         14482\n",
       "Fashion & Beauty            14442\n",
       "Farming & Industrial        14374\n",
       "Pets                        11337\n",
       "Office & Business            8140\n",
       "Kids & Baby                  6470\n",
       "Jobs                          130\n",
       "Name: category_l1_name_en, dtype: int64"
      ]
     },
     "execution_count": 90,
     "metadata": {},
     "output_type": "execute_result"
    }
   ],
   "source": [
    "dfl.category_l1_name_en.value_counts()"
   ]
  },
  {
   "cell_type": "markdown",
   "metadata": {},
   "source": [
    "## Level 2 categories"
   ]
  },
  {
   "cell_type": "code",
   "execution_count": 91,
   "metadata": {
    "collapsed": false
   },
   "outputs": [
    {
     "data": {
      "text/plain": [
       "Cars & Bakkies                           155154\n",
       "Car Parts & Accessories                   37307\n",
       "Furniture & Decor                         31551\n",
       "Cell Phones                               28266\n",
       "Homeware & Appliances                     15301\n",
       "Motorcycles & Scooters                    13981\n",
       "Construction & Home Improvement           11977\n",
       "Gaming & Consoles                         11468\n",
       "TV, Audio & Visual                        11323\n",
       "Computers & Laptops                       10876\n",
       "Outdoor & Sports Equipment                 9463\n",
       "Houses & Flats for rent                    9333\n",
       "Tools & DIY                                9159\n",
       "Trucks & Commercial Vehicles               8677\n",
       "Other Services                             7311\n",
       "Dogs & Cats                                7170\n",
       "Business & Industrial Equipment            6869\n",
       "Clothing & Shoes                           6694\n",
       "Computer Hardware & Accessories            6327\n",
       "Garden & Braai                             5698\n",
       "Art, Collectibles & Rare Items             5396\n",
       "Prams, Cots & Equipment                    5343\n",
       "Transport                                  5084\n",
       "Caravans & Trailers                        4590\n",
       "Jewellery & Accessories                    4182\n",
       "Rooms for rent & Shared                    4176\n",
       "Houses & Flats for sale                    3628\n",
       "Bicycles                                   3615\n",
       "Health, Beauty & Cosmetics                 3566\n",
       "Farming Equipment & Vehicles               3533\n",
       "Livestock                                  3292\n",
       "Cameras                                    3182\n",
       "Toys, Games & Remote Control               3134\n",
       "iPads & Tablets                            3036\n",
       "Gym & Fitness                              2630\n",
       "Office Furniture & Equipment               2566\n",
       "Musical Instruments                        2488\n",
       "Boats & Aviation                           2488\n",
       "Other pets                                 2430\n",
       "Inventory & Stock                          2205\n",
       "Shop & Catering Equipment                  1890\n",
       "Electronic Installations & Repairs         1864\n",
       "Books, CDs & DVDs                          1820\n",
       "Pet Care & Accessories                     1737\n",
       "Event Services                             1696\n",
       "Community Announcements                    1644\n",
       "Businesses for Sale                        1479\n",
       "Toddler's Clothing & Accessories           1127\n",
       "Vacation Rentals                           1108\n",
       "Offices, Shops & Commercial Space           807\n",
       "Babysitters, Domestic Help & Cleaning       731\n",
       "Land                                        696\n",
       "Feeds, Supplements & Seeds                  680\n",
       "CVs & Resumes                               129\n",
       "Job Opportunities                             1\n",
       "Name: category_l2_name_en, dtype: int64"
      ]
     },
     "execution_count": 91,
     "metadata": {},
     "output_type": "execute_result"
    }
   ],
   "source": [
    "dfl.category_l2_name_en.value_counts()"
   ]
  },
  {
   "cell_type": "markdown",
   "metadata": {},
   "source": [
    "## Level 3 categories"
   ]
  },
  {
   "cell_type": "code",
   "execution_count": 92,
   "metadata": {
    "collapsed": false
   },
   "outputs": [
    {
     "data": {
      "text/plain": [
       "Unknown              309476\n",
       "Toyota                30718\n",
       "Volkswagen            28651\n",
       "Other                 13930\n",
       "Ford                  12544\n",
       "BMW                    9999\n",
       "Opel                   9966\n",
       "Nissan                 9375\n",
       "Mercedes-Benz          7651\n",
       "Hyundai                6702\n",
       "Mazda                  5287\n",
       "Isuzu                  5257\n",
       "Honda                  4811\n",
       "Audi                   4267\n",
       "Chevrolet              3425\n",
       "Fiat                   2972\n",
       "Renault                2878\n",
       "Kia                    2487\n",
       "Suzuki                 2190\n",
       "Mitsubishi             1834\n",
       "Yamaha                 1723\n",
       "Jeep                   1407\n",
       "Land Rover             1380\n",
       "Peugeot                1047\n",
       "Kawasaki               1015\n",
       "Volvo                  1004\n",
       "Tata                    841\n",
       "Mini                    833\n",
       "Citroen                 619\n",
       "Daihatsu                489\n",
       "                      ...  \n",
       "Weippert                  1\n",
       "Ammann                    1\n",
       "Eicher                    1\n",
       "Doll                      1\n",
       "Zettelmeyer               1\n",
       "Sterling                  1\n",
       "Bimota                    1\n",
       "Gulf Stream               1\n",
       "Atlas                     1\n",
       "Rieju                     1\n",
       "Gorilla                   1\n",
       "Foretravel                1\n",
       "Kinetic                   1\n",
       "Chateau                   1\n",
       "Yanmar                    1\n",
       "Irion                     1\n",
       "King of the Road          1\n",
       "JUNG Fahrzeugbau          1\n",
       "Zetor                     1\n",
       "Knaus                     1\n",
       "Mirage                    1\n",
       "Keystone                  1\n",
       "Holiday Rambler           1\n",
       "Magirus Deutz             1\n",
       "Four-Wheel Camper         1\n",
       "e-max                     1\n",
       "Carthago                  1\n",
       "New Holland               1\n",
       "Dayang                    1\n",
       "Cristall                  1\n",
       "Name: category_l3_name_en, Length: 271, dtype: int64"
      ]
     },
     "execution_count": 92,
     "metadata": {},
     "output_type": "execute_result"
    }
   ],
   "source": [
    "dfl.category_l3_name_en.value_counts()"
   ]
  },
  {
   "cell_type": "markdown",
   "metadata": {},
   "source": [
    "Let's keep only the large enough ones"
   ]
  },
  {
   "cell_type": "code",
   "execution_count": 93,
   "metadata": {
    "collapsed": false
   },
   "outputs": [
    {
     "data": {
      "text/plain": [
       "Unknown             309476\n",
       "Toyota               30718\n",
       "Volkswagen           28651\n",
       "Other                13930\n",
       "Ford                 12544\n",
       "BMW                   9999\n",
       "Opel                  9966\n",
       "Nissan                9375\n",
       "Mercedes-Benz         7651\n",
       "Hyundai               6702\n",
       "Mazda                 5287\n",
       "Isuzu                 5257\n",
       "Honda                 4811\n",
       "Audi                  4267\n",
       "Chevrolet             3425\n",
       "Fiat                  2972\n",
       "Renault               2878\n",
       "Kia                   2487\n",
       "Suzuki                2190\n",
       "Mitsubishi            1834\n",
       "Yamaha                1723\n",
       "Jeep                  1407\n",
       "Land Rover            1380\n",
       "Peugeot               1047\n",
       "Kawasaki              1015\n",
       "Volvo                 1004\n",
       "Tata                   841\n",
       "Mini                   833\n",
       "Citroen                619\n",
       "Daihatsu               489\n",
       "                     ...  \n",
       "Freightliner           233\n",
       "Jaguar                 192\n",
       "Dodge                  190\n",
       "CI International       189\n",
       "Subaru                 184\n",
       "Lexus                  178\n",
       "Porsche                153\n",
       "Adly                   137\n",
       "Bashan                 136\n",
       "Ducati                 129\n",
       "International          118\n",
       "Iveco                  116\n",
       "Scania                 113\n",
       "Proton                 108\n",
       "Challenger             101\n",
       "Triumph                101\n",
       "Bajaj                   96\n",
       "Husqvarna               90\n",
       "Caterpillar             88\n",
       "VW                      86\n",
       "Ssangyong               84\n",
       "ABG                     76\n",
       "Trailor                 74\n",
       "Cadillac                68\n",
       "Caravelair              67\n",
       "Smart                   61\n",
       "Hyosung                 57\n",
       "Aprilia                 56\n",
       "SYM                     55\n",
       "MG                      54\n",
       "Name: category_l3_name_en, Length: 67, dtype: int64"
      ]
     },
     "execution_count": 93,
     "metadata": {},
     "output_type": "execute_result"
    }
   ],
   "source": [
    "l3vcs = dfl.category_l3_name_en.value_counts()\n",
    "l3vcs[l3vcs > 50]"
   ]
  },
  {
   "cell_type": "markdown",
   "metadata": {},
   "source": [
    "Note: a quick exploration suggests that ```category_sk``` column contains codes for the 3-levels of categories, next to some additional (fixed) tags for the site and location. We decide to ignore this column, as it seems to be redundant."
   ]
  },
  {
   "cell_type": "markdown",
   "metadata": {},
   "source": [
    "## Geo coordinates"
   ]
  },
  {
   "cell_type": "code",
   "execution_count": 94,
   "metadata": {
    "collapsed": false
   },
   "outputs": [
    {
     "data": {
      "text/html": [
       "<div>\n",
       "<style>\n",
       "    .dataframe thead tr:only-child th {\n",
       "        text-align: right;\n",
       "    }\n",
       "\n",
       "    .dataframe thead th {\n",
       "        text-align: left;\n",
       "    }\n",
       "\n",
       "    .dataframe tbody tr th {\n",
       "        vertical-align: top;\n",
       "    }\n",
       "</style>\n",
       "<table border=\"1\" class=\"dataframe\">\n",
       "  <thead>\n",
       "    <tr style=\"text-align: right;\">\n",
       "      <th></th>\n",
       "      <th>listing_latitude</th>\n",
       "      <th>listing_longitude</th>\n",
       "    </tr>\n",
       "  </thead>\n",
       "  <tbody>\n",
       "    <tr>\n",
       "      <th>count</th>\n",
       "      <td>491878.000000</td>\n",
       "      <td>491878.000000</td>\n",
       "    </tr>\n",
       "    <tr>\n",
       "      <th>mean</th>\n",
       "      <td>-27.918195</td>\n",
       "      <td>27.168319</td>\n",
       "    </tr>\n",
       "    <tr>\n",
       "      <th>std</th>\n",
       "      <td>2.961778</td>\n",
       "      <td>3.408192</td>\n",
       "    </tr>\n",
       "    <tr>\n",
       "      <th>min</th>\n",
       "      <td>-34.816300</td>\n",
       "      <td>16.900450</td>\n",
       "    </tr>\n",
       "    <tr>\n",
       "      <th>25%</th>\n",
       "      <td>-29.702790</td>\n",
       "      <td>27.648030</td>\n",
       "    </tr>\n",
       "    <tr>\n",
       "      <th>50%</th>\n",
       "      <td>-26.239060</td>\n",
       "      <td>28.087390</td>\n",
       "    </tr>\n",
       "    <tr>\n",
       "      <th>75%</th>\n",
       "      <td>-26.072610</td>\n",
       "      <td>28.322820</td>\n",
       "    </tr>\n",
       "    <tr>\n",
       "      <th>max</th>\n",
       "      <td>-22.381250</td>\n",
       "      <td>32.757660</td>\n",
       "    </tr>\n",
       "  </tbody>\n",
       "</table>\n",
       "</div>"
      ],
      "text/plain": [
       "       listing_latitude  listing_longitude\n",
       "count     491878.000000      491878.000000\n",
       "mean         -27.918195          27.168319\n",
       "std            2.961778           3.408192\n",
       "min          -34.816300          16.900450\n",
       "25%          -29.702790          27.648030\n",
       "50%          -26.239060          28.087390\n",
       "75%          -26.072610          28.322820\n",
       "max          -22.381250          32.757660"
      ]
     },
     "execution_count": 94,
     "metadata": {},
     "output_type": "execute_result"
    }
   ],
   "source": [
    "dfl[['listing_latitude', 'listing_longitude']].describe()"
   ]
  },
  {
   "cell_type": "markdown",
   "metadata": {},
   "source": [
    "We can plot extreme lat/lon values to make sure the geo coordinates are correct:"
   ]
  },
  {
   "cell_type": "markdown",
   "metadata": {},
   "source": [
    "https://www.darrinward.com/lat-long/?id=59e0cd32882c32.40619640"
   ]
  },
  {
   "cell_type": "markdown",
   "metadata": {},
   "source": [
    "![](./imgs/geo.png)"
   ]
  },
  {
   "cell_type": "markdown",
   "metadata": {},
   "source": [
    "Both extreme latitudes and extreme longitudes look fine.\n",
    "Note that for simplicity we plotted both mins in the same point, and same for max values, but those points are not actually locations in our data. What's important here is to see min/max latitudes and min/max longitudes make sense."
   ]
  },
  {
   "cell_type": "markdown",
   "metadata": {},
   "source": [
    "## Saving clean dataset"
   ]
  },
  {
   "cell_type": "code",
   "execution_count": 95,
   "metadata": {
    "collapsed": true
   },
   "outputs": [],
   "source": [
    "dfl.to_csv('../za_sample_listings_incl_cat_clean.csv', index=False)"
   ]
  },
  {
   "cell_type": "markdown",
   "metadata": {},
   "source": [
    "# Search keywords"
   ]
  },
  {
   "cell_type": "code",
   "execution_count": 96,
   "metadata": {
    "collapsed": true
   },
   "outputs": [],
   "source": [
    "df_keywords = pd.read_csv('../za_queries_sample.csv')"
   ]
  },
  {
   "cell_type": "code",
   "execution_count": 97,
   "metadata": {
    "collapsed": false
   },
   "outputs": [
    {
     "data": {
      "text/html": [
       "<div>\n",
       "<style>\n",
       "    .dataframe thead tr:only-child th {\n",
       "        text-align: right;\n",
       "    }\n",
       "\n",
       "    .dataframe thead th {\n",
       "        text-align: left;\n",
       "    }\n",
       "\n",
       "    .dataframe tbody tr th {\n",
       "        vertical-align: top;\n",
       "    }\n",
       "</style>\n",
       "<table border=\"1\" class=\"dataframe\">\n",
       "  <thead>\n",
       "    <tr style=\"text-align: right;\">\n",
       "      <th></th>\n",
       "      <th>Unnamed: 0</th>\n",
       "      <th>search_term</th>\n",
       "      <th>cnt</th>\n",
       "    </tr>\n",
       "  </thead>\n",
       "  <tbody>\n",
       "    <tr>\n",
       "      <th>0</th>\n",
       "      <td>0</td>\n",
       "      <td>polo</td>\n",
       "      <td>133394</td>\n",
       "    </tr>\n",
       "    <tr>\n",
       "      <th>1</th>\n",
       "      <td>1</td>\n",
       "      <td>golf</td>\n",
       "      <td>124172</td>\n",
       "    </tr>\n",
       "    <tr>\n",
       "      <th>2</th>\n",
       "      <td>2</td>\n",
       "      <td>isuzu</td>\n",
       "      <td>121043</td>\n",
       "    </tr>\n",
       "    <tr>\n",
       "      <th>3</th>\n",
       "      <td>3</td>\n",
       "      <td>bmw</td>\n",
       "      <td>109099</td>\n",
       "    </tr>\n",
       "    <tr>\n",
       "      <th>4</th>\n",
       "      <td>4</td>\n",
       "      <td>toyota corolla</td>\n",
       "      <td>107486</td>\n",
       "    </tr>\n",
       "    <tr>\n",
       "      <th>5</th>\n",
       "      <td>5</td>\n",
       "      <td>toyota</td>\n",
       "      <td>99802</td>\n",
       "    </tr>\n",
       "    <tr>\n",
       "      <th>6</th>\n",
       "      <td>6</td>\n",
       "      <td>hilux</td>\n",
       "      <td>95592</td>\n",
       "    </tr>\n",
       "    <tr>\n",
       "      <th>7</th>\n",
       "      <td>7</td>\n",
       "      <td>toyota tazz</td>\n",
       "      <td>94877</td>\n",
       "    </tr>\n",
       "    <tr>\n",
       "      <th>8</th>\n",
       "      <td>8</td>\n",
       "      <td>cars</td>\n",
       "      <td>93824</td>\n",
       "    </tr>\n",
       "    <tr>\n",
       "      <th>9</th>\n",
       "      <td>9</td>\n",
       "      <td>bakkie</td>\n",
       "      <td>89243</td>\n",
       "    </tr>\n",
       "    <tr>\n",
       "      <th>10</th>\n",
       "      <td>10</td>\n",
       "      <td>opel corsa</td>\n",
       "      <td>76908</td>\n",
       "    </tr>\n",
       "    <tr>\n",
       "      <th>11</th>\n",
       "      <td>11</td>\n",
       "      <td>tazz</td>\n",
       "      <td>75791</td>\n",
       "    </tr>\n",
       "    <tr>\n",
       "      <th>12</th>\n",
       "      <td>12</td>\n",
       "      <td>toyota hilux</td>\n",
       "      <td>69001</td>\n",
       "    </tr>\n",
       "    <tr>\n",
       "      <th>13</th>\n",
       "      <td>13</td>\n",
       "      <td>nissan 1400</td>\n",
       "      <td>67386</td>\n",
       "    </tr>\n",
       "    <tr>\n",
       "      <th>14</th>\n",
       "      <td>14</td>\n",
       "      <td>mazda 323</td>\n",
       "      <td>64969</td>\n",
       "    </tr>\n",
       "    <tr>\n",
       "      <th>15</th>\n",
       "      <td>15</td>\n",
       "      <td>ford ranger</td>\n",
       "      <td>63309</td>\n",
       "    </tr>\n",
       "    <tr>\n",
       "      <th>16</th>\n",
       "      <td>16</td>\n",
       "      <td>corolla</td>\n",
       "      <td>62821</td>\n",
       "    </tr>\n",
       "    <tr>\n",
       "      <th>17</th>\n",
       "      <td>17</td>\n",
       "      <td>swop</td>\n",
       "      <td>61708</td>\n",
       "    </tr>\n",
       "    <tr>\n",
       "      <th>18</th>\n",
       "      <td>18</td>\n",
       "      <td>fridge</td>\n",
       "      <td>60122</td>\n",
       "    </tr>\n",
       "    <tr>\n",
       "      <th>19</th>\n",
       "      <td>19</td>\n",
       "      <td>tv</td>\n",
       "      <td>55583</td>\n",
       "    </tr>\n",
       "    <tr>\n",
       "      <th>20</th>\n",
       "      <td>20</td>\n",
       "      <td>rims</td>\n",
       "      <td>50215</td>\n",
       "    </tr>\n",
       "    <tr>\n",
       "      <th>21</th>\n",
       "      <td>21</td>\n",
       "      <td>damaged</td>\n",
       "      <td>47274</td>\n",
       "    </tr>\n",
       "    <tr>\n",
       "      <th>22</th>\n",
       "      <td>22</td>\n",
       "      <td>beetle</td>\n",
       "      <td>45148</td>\n",
       "    </tr>\n",
       "    <tr>\n",
       "      <th>23</th>\n",
       "      <td>23</td>\n",
       "      <td>iphone</td>\n",
       "      <td>44678</td>\n",
       "    </tr>\n",
       "    <tr>\n",
       "      <th>24</th>\n",
       "      <td>24</td>\n",
       "      <td>microbus</td>\n",
       "      <td>44552</td>\n",
       "    </tr>\n",
       "    <tr>\n",
       "      <th>25</th>\n",
       "      <td>25</td>\n",
       "      <td>golf 5</td>\n",
       "      <td>41716</td>\n",
       "    </tr>\n",
       "    <tr>\n",
       "      <th>26</th>\n",
       "      <td>26</td>\n",
       "      <td>quantum</td>\n",
       "      <td>40296</td>\n",
       "    </tr>\n",
       "    <tr>\n",
       "      <th>27</th>\n",
       "      <td>27</td>\n",
       "      <td>mazda</td>\n",
       "      <td>40016</td>\n",
       "    </tr>\n",
       "    <tr>\n",
       "      <th>28</th>\n",
       "      <td>28</td>\n",
       "      <td>fridges</td>\n",
       "      <td>39190</td>\n",
       "    </tr>\n",
       "    <tr>\n",
       "      <th>29</th>\n",
       "      <td>29</td>\n",
       "      <td>ford</td>\n",
       "      <td>38975</td>\n",
       "    </tr>\n",
       "    <tr>\n",
       "      <th>...</th>\n",
       "      <td>...</td>\n",
       "      <td>...</td>\n",
       "      <td>...</td>\n",
       "    </tr>\n",
       "    <tr>\n",
       "      <th>99970</th>\n",
       "      <td>99970</td>\n",
       "      <td>bodyshell</td>\n",
       "      <td>12</td>\n",
       "    </tr>\n",
       "    <tr>\n",
       "      <th>99971</th>\n",
       "      <td>99971</td>\n",
       "      <td>toyota corola gli</td>\n",
       "      <td>12</td>\n",
       "    </tr>\n",
       "    <tr>\n",
       "      <th>99972</th>\n",
       "      <td>99972</td>\n",
       "      <td>2015 utility</td>\n",
       "      <td>12</td>\n",
       "    </tr>\n",
       "    <tr>\n",
       "      <th>99973</th>\n",
       "      <td>99973</td>\n",
       "      <td>mamas</td>\n",
       "      <td>12</td>\n",
       "    </tr>\n",
       "    <tr>\n",
       "      <th>99974</th>\n",
       "      <td>99974</td>\n",
       "      <td>odrop</td>\n",
       "      <td>12</td>\n",
       "    </tr>\n",
       "    <tr>\n",
       "      <th>99975</th>\n",
       "      <td>99975</td>\n",
       "      <td>jackrussel puppies</td>\n",
       "      <td>12</td>\n",
       "    </tr>\n",
       "    <tr>\n",
       "      <th>99976</th>\n",
       "      <td>99976</td>\n",
       "      <td>bibi</td>\n",
       "      <td>12</td>\n",
       "    </tr>\n",
       "    <tr>\n",
       "      <th>99977</th>\n",
       "      <td>99977</td>\n",
       "      <td>petrol pomp</td>\n",
       "      <td>12</td>\n",
       "    </tr>\n",
       "    <tr>\n",
       "      <th>99978</th>\n",
       "      <td>99978</td>\n",
       "      <td>car audio amp</td>\n",
       "      <td>12</td>\n",
       "    </tr>\n",
       "    <tr>\n",
       "      <th>99979</th>\n",
       "      <td>99979</td>\n",
       "      <td>mazda etude 2003</td>\n",
       "      <td>12</td>\n",
       "    </tr>\n",
       "    <tr>\n",
       "      <th>99980</th>\n",
       "      <td>99980</td>\n",
       "      <td>shos</td>\n",
       "      <td>12</td>\n",
       "    </tr>\n",
       "    <tr>\n",
       "      <th>99981</th>\n",
       "      <td>99981</td>\n",
       "      <td>toyot corolla</td>\n",
       "      <td>12</td>\n",
       "    </tr>\n",
       "    <tr>\n",
       "      <th>99982</th>\n",
       "      <td>99982</td>\n",
       "      <td>whetstone</td>\n",
       "      <td>12</td>\n",
       "    </tr>\n",
       "    <tr>\n",
       "      <th>99983</th>\n",
       "      <td>99983</td>\n",
       "      <td>toyota fo</td>\n",
       "      <td>12</td>\n",
       "    </tr>\n",
       "    <tr>\n",
       "      <th>99984</th>\n",
       "      <td>99984</td>\n",
       "      <td>mercedes benz 500sel</td>\n",
       "      <td>12</td>\n",
       "    </tr>\n",
       "    <tr>\n",
       "      <th>99985</th>\n",
       "      <td>99985</td>\n",
       "      <td>cross polo sale</td>\n",
       "      <td>12</td>\n",
       "    </tr>\n",
       "    <tr>\n",
       "      <th>99986</th>\n",
       "      <td>99986</td>\n",
       "      <td>brids</td>\n",
       "      <td>12</td>\n",
       "    </tr>\n",
       "    <tr>\n",
       "      <th>99987</th>\n",
       "      <td>99987</td>\n",
       "      <td>lather</td>\n",
       "      <td>12</td>\n",
       "    </tr>\n",
       "    <tr>\n",
       "      <th>99988</th>\n",
       "      <td>99988</td>\n",
       "      <td>bbs 15 inch</td>\n",
       "      <td>12</td>\n",
       "    </tr>\n",
       "    <tr>\n",
       "      <th>99989</th>\n",
       "      <td>99989</td>\n",
       "      <td>opel utility parts</td>\n",
       "      <td>12</td>\n",
       "    </tr>\n",
       "    <tr>\n",
       "      <th>99990</th>\n",
       "      <td>99990</td>\n",
       "      <td>golf 4tdi</td>\n",
       "      <td>12</td>\n",
       "    </tr>\n",
       "    <tr>\n",
       "      <th>99991</th>\n",
       "      <td>99991</td>\n",
       "      <td>nissan np200 1.6i</td>\n",
       "      <td>12</td>\n",
       "    </tr>\n",
       "    <tr>\n",
       "      <th>99992</th>\n",
       "      <td>99992</td>\n",
       "      <td>durban trucks</td>\n",
       "      <td>12</td>\n",
       "    </tr>\n",
       "    <tr>\n",
       "      <th>99993</th>\n",
       "      <td>99993</td>\n",
       "      <td>fridge double</td>\n",
       "      <td>12</td>\n",
       "    </tr>\n",
       "    <tr>\n",
       "      <th>99994</th>\n",
       "      <td>99994</td>\n",
       "      <td>toyota yaris radio</td>\n",
       "      <td>12</td>\n",
       "    </tr>\n",
       "    <tr>\n",
       "      <th>99995</th>\n",
       "      <td>99995</td>\n",
       "      <td>phone cpt</td>\n",
       "      <td>12</td>\n",
       "    </tr>\n",
       "    <tr>\n",
       "      <th>99996</th>\n",
       "      <td>99996</td>\n",
       "      <td>fiat punto 2006</td>\n",
       "      <td>12</td>\n",
       "    </tr>\n",
       "    <tr>\n",
       "      <th>99997</th>\n",
       "      <td>99997</td>\n",
       "      <td>damaged phones</td>\n",
       "      <td>12</td>\n",
       "    </tr>\n",
       "    <tr>\n",
       "      <th>99998</th>\n",
       "      <td>99998</td>\n",
       "      <td>car:</td>\n",
       "      <td>12</td>\n",
       "    </tr>\n",
       "    <tr>\n",
       "      <th>99999</th>\n",
       "      <td>99999</td>\n",
       "      <td>mitsubishi gt</td>\n",
       "      <td>12</td>\n",
       "    </tr>\n",
       "  </tbody>\n",
       "</table>\n",
       "<p>100000 rows × 3 columns</p>\n",
       "</div>"
      ],
      "text/plain": [
       "       Unnamed: 0           search_term     cnt\n",
       "0               0                  polo  133394\n",
       "1               1                  golf  124172\n",
       "2               2                 isuzu  121043\n",
       "3               3                   bmw  109099\n",
       "4               4        toyota corolla  107486\n",
       "5               5                toyota   99802\n",
       "6               6                 hilux   95592\n",
       "7               7           toyota tazz   94877\n",
       "8               8                  cars   93824\n",
       "9               9                bakkie   89243\n",
       "10             10            opel corsa   76908\n",
       "11             11                  tazz   75791\n",
       "12             12          toyota hilux   69001\n",
       "13             13           nissan 1400   67386\n",
       "14             14             mazda 323   64969\n",
       "15             15           ford ranger   63309\n",
       "16             16               corolla   62821\n",
       "17             17                  swop   61708\n",
       "18             18                fridge   60122\n",
       "19             19                    tv   55583\n",
       "20             20                  rims   50215\n",
       "21             21               damaged   47274\n",
       "22             22                beetle   45148\n",
       "23             23                iphone   44678\n",
       "24             24              microbus   44552\n",
       "25             25                golf 5   41716\n",
       "26             26               quantum   40296\n",
       "27             27                 mazda   40016\n",
       "28             28               fridges   39190\n",
       "29             29                  ford   38975\n",
       "...           ...                   ...     ...\n",
       "99970       99970             bodyshell      12\n",
       "99971       99971     toyota corola gli      12\n",
       "99972       99972          2015 utility      12\n",
       "99973       99973                 mamas      12\n",
       "99974       99974                 odrop      12\n",
       "99975       99975    jackrussel puppies      12\n",
       "99976       99976                  bibi      12\n",
       "99977       99977           petrol pomp      12\n",
       "99978       99978         car audio amp      12\n",
       "99979       99979      mazda etude 2003      12\n",
       "99980       99980                  shos      12\n",
       "99981       99981         toyot corolla      12\n",
       "99982       99982             whetstone      12\n",
       "99983       99983             toyota fo      12\n",
       "99984       99984  mercedes benz 500sel      12\n",
       "99985       99985       cross polo sale      12\n",
       "99986       99986                 brids      12\n",
       "99987       99987                lather      12\n",
       "99988       99988           bbs 15 inch      12\n",
       "99989       99989    opel utility parts      12\n",
       "99990       99990             golf 4tdi      12\n",
       "99991       99991     nissan np200 1.6i      12\n",
       "99992       99992         durban trucks      12\n",
       "99993       99993         fridge double      12\n",
       "99994       99994    toyota yaris radio      12\n",
       "99995       99995             phone cpt      12\n",
       "99996       99996       fiat punto 2006      12\n",
       "99997       99997        damaged phones      12\n",
       "99998       99998                  car:      12\n",
       "99999       99999         mitsubishi gt      12\n",
       "\n",
       "[100000 rows x 3 columns]"
      ]
     },
     "execution_count": 97,
     "metadata": {},
     "output_type": "execute_result"
    }
   ],
   "source": [
    "df_keywords"
   ]
  }
 ],
 "metadata": {
  "kernelspec": {
   "display_name": "Python 3",
   "language": "python",
   "name": "python3"
  },
  "language_info": {
   "codemirror_mode": {
    "name": "ipython",
    "version": 3
   },
   "file_extension": ".py",
   "mimetype": "text/x-python",
   "name": "python",
   "nbconvert_exporter": "python",
   "pygments_lexer": "ipython3",
   "version": "3.5.2"
  }
 },
 "nbformat": 4,
 "nbformat_minor": 0
}
