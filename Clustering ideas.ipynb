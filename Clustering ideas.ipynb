{
 "cells": [
  {
   "cell_type": "markdown",
   "metadata": {},
   "source": [
    "# Assignemnt"
   ]
  },
  {
   "cell_type": "markdown",
   "metadata": {},
   "source": [
    "* Implement a simple approach to cluster the listings data into similar items\n",
    "clusters that can be used in this way: If the items A and B are part of the\n",
    "same cluster it is reasonable to recommend B to a user that is viewing or has\n",
    "viewed A. Feel free to use the category information that sellers have used to\n",
    "classify their listings in any way.\n",
    "\n",
    "\n",
    "* How do you evaluate the quality of your results? \n",
    "\n",
    "\n",
    "* How does it compare to a naive approach that takes random listings from the same category?\n",
    "\n",
    "\n",
    "* What are possible shortcomings and extensions of your implementation?\n",
    "\n",
    "\n",
    "* How are newly listed (unseen) listings assigned to your clusters?"
   ]
  },
  {
   "cell_type": "markdown",
   "metadata": {},
   "source": [
    "# Ideas"
   ]
  },
  {
   "cell_type": "markdown",
   "metadata": {},
   "source": [
    "* Cluster size: 50 ( seems reasonable for a pool of items to recommend )\n",
    "\n",
    "\n",
    "* Broad groupings\n",
    "    - L2 categories are large enough to be used as a first filter\n",
    "\n",
    "* Similarity features\n",
    "    - TF-IDF on title/description\n",
    "    - for IDF use combined items in L2 categories as docs\n",
    "        ( otherwise we would be penalizing popular catgories )\n",
    "    - weight by number of queries\n",
    "    - price\n",
    "    - geodistance\n",
    "\n",
    "\n",
    "* Clustering algorithm\n",
    "    - K-means? Best choice, according to http://scikit-learn.org/stable/modules/clustering.html\n",
    "    - or MiniBatch K-means\n",
    "\n",
    "\n",
    "* Processing\n",
    "    - lemmatization, lowercase\n",
    "    - feature normalization?\n",
    "\n",
    "\n",
    "\n",
    "* New items\n",
    "    - Update distance matrix\n",
    "    - We can use KNN to assign new cluster\n",
    "    - Retrain K-Means sporadically, only when there's a large enough number of new items* Evaluation\n",
    "    - Ideally, an A/B test were we track variation of metrics like clicks, conversion, revenue\n",
    "    - for now\n",
    "        - explore sample\n",
    "        - some cluster quality metric?\n",
    "\n",
    "\n",
    "* Shortcomings\n",
    "    - Even \n",
    "    - b\n",
    "    - c\n",
    "    \n",
    "\n",
    "* Extensions\n",
    "    - use L3 when large enoguh to split. Let's say, more than 70 items ( mostly cars ).\n",
    "    - Incremental clustering ( IHAC ) https://github.com/frnsys/galaxy\n",
    "    - Improve similarity computation \n",
    "        https://blog.booking.com/k-nearest-neighbours-from-slow-to-fast-thanks-to-math.html\n",
    "    - feature weights\n",
    "    - word2vec model\n",
    "    - Named Entity Recognition and POS tags\n",
    "    - Retrieval: rank items in cluster by similarity to seed item"
   ]
  }
 ],
 "metadata": {
  "kernelspec": {
   "display_name": "Python 3",
   "language": "python",
   "name": "python3"
  },
  "language_info": {
   "codemirror_mode": {
    "name": "ipython",
    "version": 3
   },
   "file_extension": ".py",
   "mimetype": "text/x-python",
   "name": "python",
   "nbconvert_exporter": "python",
   "pygments_lexer": "ipython3",
   "version": "3.5.2"
  }
 },
 "nbformat": 4,
 "nbformat_minor": 0
}
