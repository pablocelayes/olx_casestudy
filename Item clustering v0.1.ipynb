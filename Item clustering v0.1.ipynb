{
 "cells": [
  {
   "cell_type": "markdown",
   "metadata": {},
   "source": [
    "# Approach\n",
    "\n",
    "* Broad groupings\n",
    "    - L1 categories\n",
    "\n",
    "* Similarity measure\n",
    "    - price dist\n",
    "    - TF-IDF on title/description\n",
    "    - geodistance\n",
    "\n",
    "* Clustering algorithm\n",
    "    - K-means\n",
    "\n",
    "* Evaluation\n",
    "    - Exploratory analysis for a few random items on each category"
   ]
  }
 ],
 "metadata": {
  "kernelspec": {
   "display_name": "Python 3",
   "language": "python",
   "name": "python3"
  },
  "language_info": {
   "codemirror_mode": {
    "name": "ipython",
    "version": 3
   },
   "file_extension": ".py",
   "mimetype": "text/x-python",
   "name": "python",
   "nbconvert_exporter": "python",
   "pygments_lexer": "ipython3",
   "version": "3.5.2"
  }
 },
 "nbformat": 4,
 "nbformat_minor": 0
}
