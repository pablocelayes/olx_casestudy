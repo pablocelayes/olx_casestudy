{
 "cells": [
  {
   "cell_type": "markdown",
   "metadata": {},
   "source": [
    "# Approach\n",
    "\n",
    "* Broad groupings\n",
    "    - L2 categories\n",
    "\n",
    "\n",
    "* Similarity measure\n",
    "    - TF-IDF on title/description, weighted by query frequency\n",
    "\n",
    "\n",
    "* Clustering algorithm: AgglomerativeClustering\n",
    "\n",
    "\n",
    "* Evaluation:\n",
    "    - Exploratory analysis of random samples of items within a random selection of clusters"
   ]
  },
  {
   "cell_type": "markdown",
   "metadata": {},
   "source": [
    "# Load dataset"
   ]
  },
  {
   "cell_type": "code",
   "execution_count": 38,
   "metadata": {
    "collapsed": true
   },
   "outputs": [],
   "source": [
    "import pandas as pd\n",
    "%matplotlib inline"
   ]
  },
  {
   "cell_type": "code",
   "execution_count": 39,
   "metadata": {
    "collapsed": false
   },
   "outputs": [],
   "source": [
    "dfl =  pd.read_csv('../za_sample_listings_incl_cat_clean.csv')"
   ]
  },
  {
   "cell_type": "markdown",
   "metadata": {},
   "source": [
    "# Split dataset by L2 categories"
   ]
  },
  {
   "cell_type": "code",
   "execution_count": 40,
   "metadata": {
    "collapsed": false
   },
   "outputs": [],
   "source": [
    "l2_dfs = {l2cat: rows for l2cat, rows in dfl.groupby('category_l2_name_en')}"
   ]
  },
  {
   "cell_type": "markdown",
   "metadata": {},
   "source": [
    "I'll pick a small category for quick experimentation"
   ]
  },
  {
   "cell_type": "code",
   "execution_count": 41,
   "metadata": {
    "collapsed": true
   },
   "outputs": [],
   "source": [
    "catdf = l2_dfs['Musical Instruments']"
   ]
  },
  {
   "cell_type": "markdown",
   "metadata": {},
   "source": [
    "# Computing TFIDF features"
   ]
  },
  {
   "cell_type": "markdown",
   "metadata": {},
   "source": [
    "We include repeated copies of the title to give it more importance than the description"
   ]
  },
  {
   "cell_type": "code",
   "execution_count": 42,
   "metadata": {
    "collapsed": true
   },
   "outputs": [],
   "source": [
    "def get_cat_combined_docs(catdf, title_boost=5):\n",
    "    return ['\\n'.join([t] * title_boost + [d]) for (t,d) in zip(catdf.listing_title.values, catdf.listing_description.values)]"
   ]
  },
  {
   "cell_type": "code",
   "execution_count": 43,
   "metadata": {
    "collapsed": false
   },
   "outputs": [],
   "source": [
    "cat_docs = get_cat_combined_docs(catdf)"
   ]
  },
  {
   "cell_type": "code",
   "execution_count": 44,
   "metadata": {
    "collapsed": true
   },
   "outputs": [],
   "source": [
    "from sklearn.feature_extraction.text import TfidfVectorizer"
   ]
  },
  {
   "cell_type": "markdown",
   "metadata": {},
   "source": [
    "For better matching with search queries we don't use lemmatization this time, and extend the vocabulary with bigrams."
   ]
  },
  {
   "cell_type": "code",
   "execution_count": 45,
   "metadata": {
    "collapsed": true
   },
   "outputs": [],
   "source": [
    "vec = TfidfVectorizer(lowercase=True, ngram_range=(1,2))"
   ]
  },
  {
   "cell_type": "code",
   "execution_count": 46,
   "metadata": {
    "collapsed": false
   },
   "outputs": [
    {
     "name": "stdout",
     "output_type": "stream",
     "text": [
      "CPU times: user 244 ms, sys: 4 ms, total: 248 ms\n",
      "Wall time: 250 ms\n"
     ]
    }
   ],
   "source": [
    "%time tfidf = vec.fit_transform(cat_docs)"
   ]
  },
  {
   "cell_type": "code",
   "execution_count": 47,
   "metadata": {
    "collapsed": false
   },
   "outputs": [
    {
     "data": {
      "text/plain": [
       "<2488x38349 sparse matrix of type '<class 'numpy.float64'>'\n",
       "\twith 103361 stored elements in Compressed Sparse Row format>"
      ]
     },
     "execution_count": 47,
     "metadata": {},
     "output_type": "execute_result"
    }
   ],
   "source": [
    "tfidf"
   ]
  },
  {
   "cell_type": "markdown",
   "metadata": {},
   "source": [
    "### Using user queries to improve TF IDF scores"
   ]
  },
  {
   "cell_type": "code",
   "execution_count": 48,
   "metadata": {
    "collapsed": true
   },
   "outputs": [],
   "source": [
    "kws = pd.read_csv('../za_queries_sample.csv')\n",
    "searchkw_freqs = dict([(r['search_term'], r['cnt']) for _, r in kws[['search_term','cnt']].iterrows()])"
   ]
  },
  {
   "cell_type": "markdown",
   "metadata": {},
   "source": [
    "We give a boost between 1 and 5 to words in the search queries, using the max observed search query frequency to adjust the scale"
   ]
  },
  {
   "cell_type": "code",
   "execution_count": 49,
   "metadata": {
    "collapsed": true
   },
   "outputs": [],
   "source": [
    "search_vocab = set(vec.vocabulary_.keys()).intersection(searchkw_freqs.keys())\n",
    "max_freq = max(searchkw_freqs[w] for w in search_vocab)\n",
    "\n",
    "sorted_kws = sorted(search_vocab, key=lambda w: searchkw_freqs[w])\n",
    "group_size = int(len(sorted_kws)/5)\n",
    "boost_factors = {}\n",
    "for i in range(5):\n",
    "    for w in sorted_kws[i * group_size: (i + 1) * group_size]:\n",
    "        boost_factors[w] = (i + 1)\n",
    "\n",
    "import numpy as np\n",
    "boost_vector = np.ones(len(vec.vocabulary_))\n",
    "for w, ind in vec.vocabulary_.items():\n",
    "    if w in boost_factors:\n",
    "        boost_vector[ind] += boost_factors[w]"
   ]
  },
  {
   "cell_type": "code",
   "execution_count": 50,
   "metadata": {
    "collapsed": true
   },
   "outputs": [],
   "source": [
    "_tfidf = tfidf\n",
    "tfidf = _tfidf.multiply(boost_vector)"
   ]
  },
  {
   "cell_type": "markdown",
   "metadata": {},
   "source": [
    "### Normalization"
   ]
  },
  {
   "cell_type": "markdown",
   "metadata": {},
   "source": [
    "We now normalize the TFIDF vectors to compensate for different doc lengths. This also makes it possible to use Euclidean distance to compare them."
   ]
  },
  {
   "cell_type": "code",
   "execution_count": 51,
   "metadata": {
    "collapsed": true
   },
   "outputs": [],
   "source": [
    "from sklearn.preprocessing import normalize"
   ]
  },
  {
   "cell_type": "code",
   "execution_count": 52,
   "metadata": {
    "collapsed": true
   },
   "outputs": [],
   "source": [
    "tfidf = normalize(tfidf)"
   ]
  },
  {
   "cell_type": "markdown",
   "metadata": {},
   "source": [
    "Let's check if the normalization worked correctly"
   ]
  },
  {
   "cell_type": "code",
   "execution_count": 53,
   "metadata": {
    "collapsed": false
   },
   "outputs": [
    {
     "data": {
      "text/plain": [
       "(2488, array([ 1.,  1.,  1., ...,  1.,  1.,  1.]))"
      ]
     },
     "execution_count": 53,
     "metadata": {},
     "output_type": "execute_result"
    }
   ],
   "source": [
    "from scipy.sparse.linalg import norm\n",
    "norms = norm(tfidf, axis=1)\n",
    "len(norms), norms"
   ]
  },
  {
   "cell_type": "markdown",
   "metadata": {},
   "source": [
    "## TFIDF distances"
   ]
  },
  {
   "cell_type": "code",
   "execution_count": 54,
   "metadata": {
    "collapsed": false
   },
   "outputs": [],
   "source": [
    "from sklearn.metrics.pairwise import pairwise_distances\n",
    "text_dists = pairwise_distances(tfidf)"
   ]
  },
  {
   "cell_type": "code",
   "execution_count": 55,
   "metadata": {
    "collapsed": false
   },
   "outputs": [
    {
     "data": {
      "text/plain": [
       "array([[ 0.        ,  1.41421356,  1.41421356, ...,  1.41128556,\n",
       "         1.41421356,  1.41421356],\n",
       "       [ 1.41421356,  0.        ,  1.40882666, ...,  1.41086926,\n",
       "         1.41421356,  1.41392296],\n",
       "       [ 1.41421356,  1.40882666,  0.        , ...,  0.97300259,\n",
       "         1.41421356,  1.41402328],\n",
       "       ..., \n",
       "       [ 1.41128556,  1.41086926,  0.97300259, ...,  0.        ,\n",
       "         1.41421356,  1.41386514],\n",
       "       [ 1.41421356,  1.41421356,  1.41421356, ...,  1.41421356,\n",
       "         0.        ,  1.41421356],\n",
       "       [ 1.41421356,  1.41392296,  1.41402328, ...,  1.41386514,\n",
       "         1.41421356,  0.        ]])"
      ]
     },
     "execution_count": 55,
     "metadata": {},
     "output_type": "execute_result"
    }
   ],
   "source": [
    "text_dists"
   ]
  },
  {
   "cell_type": "code",
   "execution_count": 56,
   "metadata": {
    "collapsed": false
   },
   "outputs": [
    {
     "data": {
      "text/plain": [
       "1.4142135623730963"
      ]
     },
     "execution_count": 56,
     "metadata": {},
     "output_type": "execute_result"
    }
   ],
   "source": [
    "text_dists.max()"
   ]
  },
  {
   "cell_type": "code",
   "execution_count": 57,
   "metadata": {
    "collapsed": true
   },
   "outputs": [],
   "source": [
    "text_dists /= text_dists.max()"
   ]
  },
  {
   "cell_type": "code",
   "execution_count": 58,
   "metadata": {
    "collapsed": true
   },
   "outputs": [],
   "source": [
    "dists = text_dists"
   ]
  },
  {
   "cell_type": "markdown",
   "metadata": {},
   "source": [
    "# Clustering"
   ]
  },
  {
   "cell_type": "markdown",
   "metadata": {},
   "source": [
    "We want to adjust the number of clusters to our desired average cluster size."
   ]
  },
  {
   "cell_type": "code",
   "execution_count": 59,
   "metadata": {
    "collapsed": true
   },
   "outputs": [],
   "source": [
    "cluster_size = 25\n",
    "n_clusters = int(len(catdf)/cluster_size)"
   ]
  },
  {
   "cell_type": "code",
   "execution_count": 60,
   "metadata": {
    "collapsed": false
   },
   "outputs": [
    {
     "data": {
      "text/plain": [
       "99"
      ]
     },
     "execution_count": 60,
     "metadata": {},
     "output_type": "execute_result"
    }
   ],
   "source": [
    "n_clusters"
   ]
  },
  {
   "cell_type": "code",
   "execution_count": 61,
   "metadata": {
    "collapsed": false
   },
   "outputs": [
    {
     "data": {
      "text/plain": [
       "AgglomerativeClustering(affinity='precomputed', compute_full_tree='auto',\n",
       "            connectivity=None, linkage='complete', memory=None,\n",
       "            n_clusters=99, pooling_func=<function mean at 0x7fe640478598>)"
      ]
     },
     "execution_count": 61,
     "metadata": {},
     "output_type": "execute_result"
    }
   ],
   "source": [
    "from sklearn.cluster import AgglomerativeClustering\n",
    "cl = AgglomerativeClustering(\n",
    "        n_clusters=n_clusters,\n",
    "        affinity='precomputed',\n",
    "        linkage='complete',\n",
    ")\n",
    "cl.fit(dists)"
   ]
  },
  {
   "cell_type": "markdown",
   "metadata": {},
   "source": [
    "We chose _complete_ linkage method because it produces a less concentrated distribution of cluster sizes."
   ]
  },
  {
   "cell_type": "code",
   "execution_count": 62,
   "metadata": {
    "collapsed": true
   },
   "outputs": [],
   "source": [
    "catdf['cluster_labels'] = cl.labels_"
   ]
  },
  {
   "cell_type": "markdown",
   "metadata": {},
   "source": [
    "Let's sort the clusters by size"
   ]
  },
  {
   "cell_type": "code",
   "execution_count": 63,
   "metadata": {
    "collapsed": true
   },
   "outputs": [],
   "source": [
    "from collections import defaultdict\n",
    "cluster_sizes = defaultdict(int)\n",
    "for l in cl.labels_:\n",
    "    cluster_sizes[l] += 1\n",
    "cluster_sizes = sorted(cluster_sizes.items(), key=lambda x: -x[1])"
   ]
  },
  {
   "cell_type": "markdown",
   "metadata": {},
   "source": [
    "Let us explore a random sample of 20 clusters and display a random selection of up to 8 items for each of them:"
   ]
  },
  {
   "cell_type": "code",
   "execution_count": 64,
   "metadata": {
    "collapsed": false
   },
   "outputs": [
    {
     "name": "stdout",
     "output_type": "stream",
     "text": [
      "\n",
      "\n",
      "Cluster 91, size 14\n",
      "=========================================================  ===============\n",
      "listing_title                                                listing_price\n",
      "=========================================================  ===============\n",
      "HYBRID mixer 24 channel                                               6500\n",
      "hybrid                                                                 250\n",
      "Brand new : HYBRID B-1600 and HYBRID B-2200 amps for sale            10000\n",
      "Hybrid 4 channel mixer                                                2500\n",
      "Hybrid C3000 Amp                                                      4000\n",
      "Hybrid mixer mc12usb New                                              3000\n",
      "hybrid 8chunel powered table mixer                                    1200\n",
      "Hybrid mixer with usb input                                           5500\n",
      "=========================================================  ===============\n",
      "\n",
      "\n",
      "Cluster 90, size 49\n",
      "=======================================  ===============\n",
      "listing_title                              listing_price\n",
      "=======================================  ===============\n",
      "Ibanez S540 Electric Inc OHC                        6500\n",
      "ibanez gio soundgear 5 string bass                  2499\n",
      "IBANEZ AEW21/22/23 semi acoustic guitar             4999\n",
      "Ibanez guitar amplifier.                            1599\n",
      "Ibanez Gio Soundgear                                1700\n",
      "ibanez for sale                                     5000\n",
      "Ibanez Guitar                                       1299\n",
      "Ibanez AM 93 Guitar                                 8750\n",
      "=======================================  ===============\n",
      "\n",
      "\n",
      "Cluster 32, size 25\n",
      "=================================================================  ===============\n",
      "listing_title                                                        listing_price\n",
      "=================================================================  ===============\n",
      "Boss GT8                                                                      2000\n",
      "Boss PH1 Phaser                                                                900\n",
      "Boss Overdrive / Distortion OS -2                                              600\n",
      "BOSS ME-80 Guitar Effects Pedal                                               3750\n",
      "SOLD - Boss CE-2 Chorus Guitar Effects Pedal - 80's Made in Japan             2200\n",
      "Guitar Pedal BOSS ME - 80                                                     3750\n",
      "Guitar - Line 6 Adaptor & Boss FS5-L For Sale                                  999\n",
      "Boss Gt8                                                                      2000\n",
      "=================================================================  ===============\n",
      "\n",
      "\n",
      "Cluster 17, size 30\n",
      "==================================================================  ===============\n",
      "listing_title                                                         listing_price\n",
      "==================================================================  ===============\n",
      "Gadenza ribbon microphones                                                    10000\n",
      "1956 Olds Ambassador raw brass Cornet made in Elkhart, Indiana, US             3000\n",
      "Ibanez Artcore AF75-TDG and Vox Stomplab 2G                                    9000\n",
      "KORG SV1 Stage Vintage Piano 73-Key                                            6100\n",
      "3xHeadphones and 2x microphones and extension cable                             400\n",
      "Shure                                                                           800\n",
      "Korg Kronos 2 88-Key Music Workstation                                        30000\n",
      "Vox VT20x                                                                      2400\n",
      "==================================================================  ===============\n",
      "\n",
      "\n",
      "Cluster 48, size 7\n",
      "======================================================================  ===============\n",
      "listing_title                                                             listing_price\n",
      "======================================================================  ===============\n",
      "AKG WMS40 Pro Flexx UHF Wireless systems for guitar, bass and Keyboard             1400\n",
      "Brand new AKG WMS40 Pro Flexx UHF Wireless systems for guitars, bass               1400\n",
      "Shure PG Wireless Combo Microphone System (Mint Condition)                         3450\n",
      "UHF Wireless Microphone System                                                     2000\n",
      "AKG Wireless Instrument System                                                     1500\n",
      "Rock Sonic Wireless                                                                 200\n",
      "Nady professional U33B wireless bass guitar system                                 2950\n",
      "======================================================================  ===============\n",
      "\n",
      "\n",
      "Cluster 36, size 21\n",
      "================================================================  ===============\n",
      "listing_title                                                       listing_price\n",
      "================================================================  ===============\n",
      "Moeer Skyverb                                                                 900\n",
      "Naal                                                                         1100\n",
      " Brand New Cort Earth70E NS Guitar with accessories for sale !!             1819\n",
      "PSR S750 Yamaha brand new keyboar                                            7500\n",
      "Novation Circuit                                                             5000\n",
      "Side Flute CRYSTAL SF-2-S R 1100(new R 3000)                                 1100\n",
      "Brand new                                                                    3000\n",
      "Ou opwen plate speeler                                                        500\n",
      "================================================================  ===============\n",
      "\n",
      "\n",
      "Cluster 21, size 19\n",
      "=====================================================================  ===============\n",
      "listing_title                                                            listing_price\n",
      "=====================================================================  ===============\n",
      "Brand New Marshall DSL15H Amp & Blackstar HTV212 Cab                            9000\n",
      "Ashdown ABM410H bass cab                                                        4000\n",
      "Electrical guitar and core no amp                                                550\n",
      "paiste 3 china crash and zildjan cymbal                                         1500\n",
      "14“HIHAT cymbal color low volume cymbals from china Tongxiang factory            840.5\n",
      "Organ - Kawai - Electrical                                                      1500\n",
      "Sabian B8 Pro Ride Cymbal                                                        900\n",
      "Zildjian K-custom ride cymbal 20\"                                               5000\n",
      "=====================================================================  ===============\n",
      "\n",
      "\n",
      "Cluster 19, size 10\n",
      "================================================================  ===============\n",
      "listing_title                                                       listing_price\n",
      "================================================================  ===============\n",
      "Vintage YAMAHA FG-1500                                                      39000\n",
      "Vintage DIA acoustic guitar                                                   800\n",
      "Record Player/Turntable For Sale                                             5200\n",
      "Vintage 70s Yamaha FG-1500                                                  35000\n",
      "Vintage High End Yamaha RGX Custom 1989                                      4000\n",
      "Vintage High End Yamaha RGX Custom Guitar                                    4500\n",
      "Vintage Suzuki Acoustic Guitar including Hardcase, Made in Japan             2400\n",
      "Vintage Ringo guitar                                                          450\n",
      "================================================================  ===============\n",
      "\n",
      "\n",
      "Cluster 50, size 8\n",
      "========================================================  ===============\n",
      "listing_title                                               listing_price\n",
      "========================================================  ===============\n",
      "Lark Chromatic Harmonica Shangai                                     1234\n",
      "Harmonica!!                                                           800\n",
      "Harmonica mouth organ or instraments for sale. [vintage]             7500\n",
      "Hohner Hotmetal Harmonica                                             269\n",
      "Aria Harmonica                                                        120\n",
      "Harmonica Mouth Organ as Brand New                                    280\n",
      "Harmonica 4 sale or swop                                             1234\n",
      "SX Blues Harmonica                                                    149\n",
      "========================================================  ===============\n",
      "\n",
      "\n",
      "Cluster 26, size 20\n",
      "======================================  ===============\n",
      "listing_title                             listing_price\n",
      "======================================  ===============\n",
      "Yamaha classic guitar                               800\n",
      "Yamaha Classic Guitar CG 101                       1650\n",
      "Yamaha classic guitar with stand!                   850\n",
      "Classic cd's x 48                                  2000\n",
      "Otto Bach Classic Piano                            9500\n",
      "Classic guitar for sell. (Yamaha c-40)             1000\n",
      "Piano Otto Bach Classic                            8500\n",
      "Piano Otto Bach Classic                           12500\n",
      "======================================  ===============\n",
      "\n",
      "\n",
      "Cluster 88, size 24\n",
      "========================================  ===============\n",
      "listing_title                               listing_price\n",
      "========================================  ===============\n",
      "Fender Ivory (imitation) electric violin             7000\n",
      "Cremona violin SV100-3 1/4                           1500\n",
      "Electric Violin                                      1200\n",
      "Perfect beginner violin                               800\n",
      "Electric Violin                                      1200\n",
      "Messina Violin                                       1299\n",
      "3/4 Antonio Stradivari violin for sale               4000\n",
      "Violin                                                850\n",
      "========================================  ===============\n",
      "\n",
      "\n",
      "Cluster 94, size 10\n",
      "==============================================  ===============\n",
      "listing_title                                     listing_price\n",
      "==============================================  ===============\n",
      "Suzuki MDG-100 Micro Grand Digital Piano                  17500\n",
      "Suzuki guitar                                               500\n",
      "Suzuki Guitar SG-6L                                         800\n",
      "Suzuki's new MDG-100 Micro Digital Grand Piano            16000\n",
      "Suzuki electric guitar                                     2000\n",
      "Electric guitar - Suzuki                                   2500\n",
      "Suzuki Guitar Starfire SAC-12                               600\n",
      "Master Suzuki guitar                                        550\n",
      "==============================================  ===============\n",
      "\n",
      "\n",
      "Cluster 3, size 25\n",
      "============================  ===============\n",
      "listing_title                   listing_price\n",
      "============================  ===============\n",
      "Antique Piano                            3000\n",
      "Baldwin antique piano                   10000\n",
      "Yvonne                                 380000\n",
      "ltd f50 guitar                           2000\n",
      "Edirol SD20 sound canvas                 2000\n",
      "Ltd ex 260                               3000\n",
      "Fender Telecaster + HardCase             8499\n",
      "Guitor                                   1500\n",
      "============================  ===============\n",
      "\n",
      "\n",
      "Cluster 95, size 13\n",
      "================================  ===============\n",
      "listing_title                       listing_price\n",
      "================================  ===============\n",
      "Technics                                     4500\n",
      "Technics SL-1200 turntables                  6800\n",
      "Technics                                     4500\n",
      "Electric Technics Piano for Sale             6500\n",
      "Technics                                     4000\n",
      "Technics                                     4500\n",
      "Technics SL1200 turntables                  14000\n",
      "Technics keyboard                            2800\n",
      "================================  ===============\n",
      "\n",
      "\n",
      "Cluster 30, size 30\n",
      "=============================================================  ===============\n",
      "listing_title                                                    listing_price\n",
      "=============================================================  ===============\n",
      "Music instrument                                                           350\n",
      "Music Room Blackboard - Vintage                                            375\n",
      "Sheet music stand                                                           50\n",
      "ultra-portable Roland e500 music keyboard                                 4400\n",
      "D j bankky in pretoria                                                     200\n",
      "Music Gear for sale!                                                      2500\n",
      "Guitar, Bass, Drums, Keyboard, Vocals at Rockin' Music School              590\n",
      "Beautiful Wharfdale strat style                                            750\n",
      "=============================================================  ===============\n",
      "\n",
      "\n",
      "Cluster 56, size 45\n",
      "=========================================  ===============\n",
      "listing_title                                listing_price\n",
      "=========================================  ===============\n",
      "Roland Jazz Chorus 120- iconic guitar amp             7500\n",
      "Guitar amp in great condition                          400\n",
      "SantaFe Electric Guitar & Amp                         1600\n",
      "10 watt guitar amp                                     250\n",
      "Crate GT1200H 120w half stack guitar amp              2800\n",
      "Valve Guitar Amp                                     10000\n",
      "Peavey classic 50/50 all valve power amp              3800\n",
      "Fernder Excelsior Amp                                 5000\n",
      "=========================================  ===============\n",
      "\n",
      "\n",
      "Cluster 29, size 23\n",
      "======================================================================  ===============\n",
      "listing_title                                                             listing_price\n",
      "======================================================================  ===============\n",
      "MXR distortion lll pedal                                                         1500\n",
      "Electro-Harmonix POG2                                                            3999\n",
      "Mxr distortion lll pedal                                                         1300\n",
      "BOSS MT-2 Metal Zone guitar pedal                                                 750\n",
      "DigiTech RP500 Guitar effects pedal                                                 1.8\n",
      "Biyang X-Drive Overdrive Tubescreamer Pedal (OD-8) with 4558D JRC Chip            950\n",
      "Zoom G5 Guitar Effects Pedal                                                     4200\n",
      "Guitar pedal                                                                      800\n",
      "======================================================================  ===============\n",
      "\n",
      "\n",
      "Cluster 1, size 15\n",
      "======================================================================  ===============\n",
      "listing_title                                                             listing_price\n",
      "======================================================================  ===============\n",
      "Hohner Baroque Style Recorder                                                       159\n",
      "M-audio fast track usb recorder                                                    1800\n",
      "14\" Paiste 302 Hi hats cymbals. perfect condition. Asking R2600                    2600\n",
      "Yamaha alto recorder                                                                150\n",
      "4 Cymbals with bag for sale 13 inch Sabian B8 Hi hat 14 inch Paiste 30             5000\n",
      "zildjian cymbals for sale                                                          1800\n",
      "cymbals- Hi Hats                                                                   4000\n",
      "Recorder for sale                                                                  1000\n",
      "======================================================================  ===============\n",
      "\n",
      "\n",
      "Cluster 34, size 21\n",
      "================================================  ===============\n",
      "listing_title                                       listing_price\n",
      "================================================  ===============\n",
      "WANTED - Gig/carry bag for Vox TonelabLE              1.23457e+08\n",
      "looking for guitar                                  150\n",
      "Ibanez Apex WANTED                                 1234\n",
      "Samson pad                                         1800\n",
      "wanted Squier standard strat wanted                2500\n",
      "Wharfedale pro DM2.0 Microphones 3 pack             850\n",
      "Electronic keyboards to take for spares FOR FREE      1\n",
      "MAG tuch screen for desktop                         800\n",
      "================================================  ===============\n",
      "\n",
      "\n",
      "Cluster 11, size 7\n",
      "=================================================  ===============\n",
      "listing_title                                        listing_price\n",
      "=================================================  ===============\n",
      "Sabian cymbal                                                  450\n",
      "Sabian symbols                                                2950\n",
      "Sabian 16\" Artisan Crash Cymbal                               4000\n",
      "Sabian symbols SBR                                            2900\n",
      "Beats by Dre original earphones + 2gig mp3 player             2000\n",
      "Coke guitar with cd player                                    2200\n",
      "mp3 player johnnie walker                                      300\n",
      "=================================================  ===============\n"
     ]
    }
   ],
   "source": [
    "from tabulate import tabulate\n",
    "from random import sample\n",
    "for ind, size in sample(cluster_sizes, 20):\n",
    "    print(\"\\n\\nCluster {}, size {}\".format(ind, size))\n",
    "    items = catdf[catdf.cluster_labels == ind][['listing_title', 'listing_price']]\n",
    "    if len(items) > 8:\n",
    "        items = items.sample(8)\n",
    "    print(tabulate(items, headers='keys', showindex=False, tablefmt='rst'))"
   ]
  }
 ],
 "metadata": {
  "kernelspec": {
   "display_name": "Python 3",
   "language": "python",
   "name": "python3"
  },
  "language_info": {
   "codemirror_mode": {
    "name": "ipython",
    "version": 3
   },
   "file_extension": ".py",
   "mimetype": "text/x-python",
   "name": "python",
   "nbconvert_exporter": "python",
   "pygments_lexer": "ipython3",
   "version": "3.5.2"
  }
 },
 "nbformat": 4,
 "nbformat_minor": 0
}
