{
 "cells": [
  {
   "cell_type": "code",
   "execution_count": 1,
   "metadata": {
    "collapsed": true
   },
   "outputs": [],
   "source": [
    "import pandas as pd"
   ]
  },
  {
   "cell_type": "code",
   "execution_count": 2,
   "metadata": {
    "collapsed": true
   },
   "outputs": [],
   "source": [
    "df_listings = pd.read_csv('../za_sample_listings_incl_cat.csv')"
   ]
  },
  {
   "cell_type": "code",
   "execution_count": 6,
   "metadata": {
    "collapsed": false
   },
   "outputs": [
    {
     "data": {
      "text/html": [
       "<div>\n",
       "<style>\n",
       "    .dataframe thead tr:only-child th {\n",
       "        text-align: right;\n",
       "    }\n",
       "\n",
       "    .dataframe thead th {\n",
       "        text-align: left;\n",
       "    }\n",
       "\n",
       "    .dataframe tbody tr th {\n",
       "        vertical-align: top;\n",
       "    }\n",
       "</style>\n",
       "<table border=\"1\" class=\"dataframe\">\n",
       "  <thead>\n",
       "    <tr style=\"text-align: right;\">\n",
       "      <th></th>\n",
       "      <th>Unnamed: 0</th>\n",
       "      <th>item_id</th>\n",
       "      <th>seller_id</th>\n",
       "      <th>listing_title</th>\n",
       "      <th>listing_description</th>\n",
       "      <th>listing_price</th>\n",
       "      <th>category_sk</th>\n",
       "      <th>category_l1_name_en</th>\n",
       "      <th>category_l2_name_en</th>\n",
       "      <th>category_l3_name_en</th>\n",
       "      <th>listing_latitude</th>\n",
       "      <th>listing_longitude</th>\n",
       "    </tr>\n",
       "  </thead>\n",
       "  <tbody>\n",
       "    <tr>\n",
       "      <th>0</th>\n",
       "      <td>0</td>\n",
       "      <td>0.0</td>\n",
       "      <td>0</td>\n",
       "      <td>Nice wooden makes</td>\n",
       "      <td>We build all different types for sale</td>\n",
       "      <td>17500.00</td>\n",
       "      <td>olx|mea|za|806|809</td>\n",
       "      <td>Home, Garden &amp; Tools</td>\n",
       "      <td>Garden &amp; Braai</td>\n",
       "      <td>Unknown</td>\n",
       "      <td>-25.43067</td>\n",
       "      <td>27.84873</td>\n",
       "    </tr>\n",
       "    <tr>\n",
       "      <th>1</th>\n",
       "      <td>1</td>\n",
       "      <td>1.0</td>\n",
       "      <td>1</td>\n",
       "      <td>A Shinning 2013 Chevrolet 1.4 Utility Bakkie w...</td>\n",
       "      <td>A Stunning accident free bargain that has just...</td>\n",
       "      <td>94890.00</td>\n",
       "      <td>olx|mea|za|362|378|2012</td>\n",
       "      <td>Vehicles</td>\n",
       "      <td>Cars &amp; Bakkies</td>\n",
       "      <td>Chevrolet</td>\n",
       "      <td>-29.73714</td>\n",
       "      <td>31.07364</td>\n",
       "    </tr>\n",
       "    <tr>\n",
       "      <th>2</th>\n",
       "      <td>2</td>\n",
       "      <td>2.0</td>\n",
       "      <td>2</td>\n",
       "      <td>Lampshades various</td>\n",
       "      <td>A variety of lampshades in white</td>\n",
       "      <td>20.00</td>\n",
       "      <td>olx|mea|za|806|807</td>\n",
       "      <td>Home, Garden &amp; Tools</td>\n",
       "      <td>Furniture &amp; Decor</td>\n",
       "      <td>Unknown</td>\n",
       "      <td>-33.88159</td>\n",
       "      <td>18.55522</td>\n",
       "    </tr>\n",
       "    <tr>\n",
       "      <th>3</th>\n",
       "      <td>3</td>\n",
       "      <td>3.0</td>\n",
       "      <td>3</td>\n",
       "      <td>Toyota Corolla</td>\n",
       "      <td>Toyota Corolla 1.3 Professional, Front Electri...</td>\n",
       "      <td>63995.00</td>\n",
       "      <td>olx|mea|za|362|378|2067</td>\n",
       "      <td>Vehicles</td>\n",
       "      <td>Cars &amp; Bakkies</td>\n",
       "      <td>Toyota</td>\n",
       "      <td>-26.10757</td>\n",
       "      <td>28.05670</td>\n",
       "    </tr>\n",
       "    <tr>\n",
       "      <th>4</th>\n",
       "      <td>4</td>\n",
       "      <td>4.0</td>\n",
       "      <td>4</td>\n",
       "      <td>bench grinder and buffer</td>\n",
       "      <td>bench grinder and.buffer...R800 for both</td>\n",
       "      <td>800.00</td>\n",
       "      <td>olx|mea|za|806|910</td>\n",
       "      <td>Home, Garden &amp; Tools</td>\n",
       "      <td>Tools &amp; DIY</td>\n",
       "      <td>Unknown</td>\n",
       "      <td>-26.17190</td>\n",
       "      <td>27.91318</td>\n",
       "    </tr>\n",
       "  </tbody>\n",
       "</table>\n",
       "</div>"
      ],
      "text/plain": [
       "  Unnamed: 0  item_id seller_id  \\\n",
       "0          0      0.0         0   \n",
       "1          1      1.0         1   \n",
       "2          2      2.0         2   \n",
       "3          3      3.0         3   \n",
       "4          4      4.0         4   \n",
       "\n",
       "                                       listing_title  \\\n",
       "0                                  Nice wooden makes   \n",
       "1  A Shinning 2013 Chevrolet 1.4 Utility Bakkie w...   \n",
       "2                                 Lampshades various   \n",
       "3                                     Toyota Corolla   \n",
       "4                           bench grinder and buffer   \n",
       "\n",
       "                                 listing_description listing_price  \\\n",
       "0              We build all different types for sale      17500.00   \n",
       "1  A Stunning accident free bargain that has just...      94890.00   \n",
       "2                   A variety of lampshades in white         20.00   \n",
       "3  Toyota Corolla 1.3 Professional, Front Electri...      63995.00   \n",
       "4           bench grinder and.buffer...R800 for both        800.00   \n",
       "\n",
       "               category_sk   category_l1_name_en category_l2_name_en  \\\n",
       "0       olx|mea|za|806|809  Home, Garden & Tools      Garden & Braai   \n",
       "1  olx|mea|za|362|378|2012              Vehicles      Cars & Bakkies   \n",
       "2       olx|mea|za|806|807  Home, Garden & Tools   Furniture & Decor   \n",
       "3  olx|mea|za|362|378|2067              Vehicles      Cars & Bakkies   \n",
       "4       olx|mea|za|806|910  Home, Garden & Tools         Tools & DIY   \n",
       "\n",
       "  category_l3_name_en  listing_latitude  listing_longitude  \n",
       "0             Unknown         -25.43067           27.84873  \n",
       "1           Chevrolet         -29.73714           31.07364  \n",
       "2             Unknown         -33.88159           18.55522  \n",
       "3              Toyota         -26.10757           28.05670  \n",
       "4             Unknown         -26.17190           27.91318  "
      ]
     },
     "execution_count": 6,
     "metadata": {},
     "output_type": "execute_result"
    }
   ],
   "source": [
    "df_listings.head()"
   ]
  },
  {
   "cell_type": "code",
   "execution_count": 4,
   "metadata": {
    "collapsed": true
   },
   "outputs": [],
   "source": [
    "df_keywords = pd.read_csv('../za_queries_sample.csv')"
   ]
  },
  {
   "cell_type": "code",
   "execution_count": 7,
   "metadata": {
    "collapsed": false
   },
   "outputs": [
    {
     "data": {
      "text/html": [
       "<div>\n",
       "<style>\n",
       "    .dataframe thead tr:only-child th {\n",
       "        text-align: right;\n",
       "    }\n",
       "\n",
       "    .dataframe thead th {\n",
       "        text-align: left;\n",
       "    }\n",
       "\n",
       "    .dataframe tbody tr th {\n",
       "        vertical-align: top;\n",
       "    }\n",
       "</style>\n",
       "<table border=\"1\" class=\"dataframe\">\n",
       "  <thead>\n",
       "    <tr style=\"text-align: right;\">\n",
       "      <th></th>\n",
       "      <th>Unnamed: 0</th>\n",
       "      <th>search_term</th>\n",
       "      <th>cnt</th>\n",
       "    </tr>\n",
       "  </thead>\n",
       "  <tbody>\n",
       "    <tr>\n",
       "      <th>0</th>\n",
       "      <td>0</td>\n",
       "      <td>polo</td>\n",
       "      <td>133394</td>\n",
       "    </tr>\n",
       "    <tr>\n",
       "      <th>1</th>\n",
       "      <td>1</td>\n",
       "      <td>golf</td>\n",
       "      <td>124172</td>\n",
       "    </tr>\n",
       "    <tr>\n",
       "      <th>2</th>\n",
       "      <td>2</td>\n",
       "      <td>isuzu</td>\n",
       "      <td>121043</td>\n",
       "    </tr>\n",
       "    <tr>\n",
       "      <th>3</th>\n",
       "      <td>3</td>\n",
       "      <td>bmw</td>\n",
       "      <td>109099</td>\n",
       "    </tr>\n",
       "    <tr>\n",
       "      <th>4</th>\n",
       "      <td>4</td>\n",
       "      <td>toyota corolla</td>\n",
       "      <td>107486</td>\n",
       "    </tr>\n",
       "  </tbody>\n",
       "</table>\n",
       "</div>"
      ],
      "text/plain": [
       "   Unnamed: 0     search_term     cnt\n",
       "0           0            polo  133394\n",
       "1           1            golf  124172\n",
       "2           2           isuzu  121043\n",
       "3           3             bmw  109099\n",
       "4           4  toyota corolla  107486"
      ]
     },
     "execution_count": 7,
     "metadata": {},
     "output_type": "execute_result"
    }
   ],
   "source": [
    "df_keywords.head()"
   ]
  }
 ],
 "metadata": {
  "kernelspec": {
   "display_name": "Python 3",
   "language": "python",
   "name": "python3"
  },
  "language_info": {
   "codemirror_mode": {
    "name": "ipython",
    "version": 3
   },
   "file_extension": ".py",
   "mimetype": "text/x-python",
   "name": "python",
   "nbconvert_exporter": "python",
   "pygments_lexer": "ipython3",
   "version": "3.5.2"
  }
 },
 "nbformat": 4,
 "nbformat_minor": 0
}
